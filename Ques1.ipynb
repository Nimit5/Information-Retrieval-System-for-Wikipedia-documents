{
 "cells": [
  {
   "cell_type": "code",
   "execution_count": null,
   "id": "694c0d28",
   "metadata": {},
   "outputs": [],
   "source": [
    "import re\n",
    "import string\n",
    "import nltk\n",
    "import unidecode\n",
    "from nltk import word_tokenize\n",
    "from nltk.stem import PorterStemmer\n",
    "nltk.download('stopwords') \n",
    "from nltk.corpus import stopwords\n",
    "from nltk.corpus import PlaintextCorpusReader"
   ]
  },
  {
   "cell_type": "code",
   "execution_count": 1,
   "id": "04f74c24",
   "metadata": {},
   "outputs": [],
   "source": [
    "# Root folder where the text files are located\n",
    "corpus_root = '/home/nimit/IITK/IR_CS657A/Assign1/Solution/english-corpora-1'\n",
    "\n",
    "# Read the list of files\n",
    "filelists = PlaintextCorpusReader(corpus_root, '.*')\n",
    "\n",
    "# Root folder where the cleaned files are to be located\n",
    "corpus_root_cleaned = '/home/nimit/IITK/IR_CS657A/Assign1/Solution/english-corpora-processed-1'"
   ]
  },
  {
   "cell_type": "code",
   "execution_count": 3,
   "id": "f0999015",
   "metadata": {},
   "outputs": [],
   "source": [
    "def text_preprocess(text):\n",
    "    text=text.lower()\n",
    "    \n",
    "    # Removing new lines and tabs\n",
    "    text = text.replace('\\\\n', ' ').replace('\\n', ' ').replace('\\t',' ').replace('\\\\', ' ').replace('. com', '.com')\n",
    "    \n",
    "    # Removing_extra whitespace\n",
    "    pattern = re.compile(r'\\s+') \n",
    "    Without_whitespace = re.sub(pattern, ' ', text)\n",
    "    text = Without_whitespace.replace('?', ' ? ').replace(')', ') ')\n",
    "\n",
    "    # Converting unicode data into ASCII characters. \n",
    "    text = unidecode.unidecode(text)\n",
    "    \n",
    "    # Removing links\n",
    "    remove_https = re.sub(r'http\\S+', '', text)\n",
    "    text = re.sub(r\"\\ [A-Za-z]*\\.com\", \" \", remove_https)\n",
    "    \n",
    "    # Removing Code\n",
    "    text=re.sub(r' {[^}]*}','',text) \n",
    "    \n",
    "    # Removing wikipedia references \n",
    "    text = re.sub(\"\\[[0-9]+\\]\", ' ', text)\n",
    "    \n",
    "    # Removing punctuations\n",
    "    text = re.sub('[%s]' % re.escape(string.punctuation), ' ', text)\n",
    "    \n",
    "    # Remove_whitespace\n",
    "    pattern = re.compile(r'\\s+') \n",
    "    Without_whitespace = re.sub(pattern, ' ', text)\n",
    "    text = Without_whitespace.replace('?', ' ? ').replace(')', ') ')\n",
    "\n",
    "    # Removing stopwords\n",
    "    stoplist = stopwords.words('english') \n",
    "    stoplist = set(stoplist)\n",
    "    text = repr(text)\n",
    "    \n",
    "    # Text without stopwords\n",
    "    No_StopWords = [word for word in word_tokenize(text) if word.lower() not in stoplist ]\n",
    "    \n",
    "    # Convert list of tokens_without_stopwords to String type.\n",
    "    words_string = ' '.join(No_StopWords)    \n",
    "    \n",
    "    tokens_words = nltk.word_tokenize(words_string)\n",
    "    ps = PorterStemmer()\n",
    "    \n",
    "    word_list = nltk.word_tokenize(words_string)\n",
    "    text = ' '.join([ps.stem(w) for w in word_list])\n",
    "    \n",
    "    return text \n"
   ]
  },
  {
   "cell_type": "code",
   "execution_count": 5,
   "id": "b8a920f3",
   "metadata": {},
   "outputs": [],
   "source": [
    "for file in filelists.fileids():\n",
    "    s=corpus_root+\"/\"+str(file)\n",
    "    s2=corpus_root_cleaned+\"/\"+str(file)\n",
    "    with open(s2, 'w') as f2,open(s, 'r') as f1:\n",
    "        text = f1.read()\n",
    "        text=text_preprocess(text)\n",
    "        f2.writelines(text)\n",
    "    "
   ]
  }
 ],
 "metadata": {
  "kernelspec": {
   "display_name": "Python 3 (ipykernel)",
   "language": "python",
   "name": "python3"
  },
  "language_info": {
   "codemirror_mode": {
    "name": "ipython",
    "version": 3
   },
   "file_extension": ".py",
   "mimetype": "text/x-python",
   "name": "python",
   "nbconvert_exporter": "python",
   "pygments_lexer": "ipython3",
   "version": "3.8.10"
  }
 },
 "nbformat": 4,
 "nbformat_minor": 5
}
